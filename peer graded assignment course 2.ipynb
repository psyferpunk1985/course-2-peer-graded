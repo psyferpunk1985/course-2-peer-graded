{
 "cells": [
  {
   "cell_type": "markdown",
   "metadata": {},
   "source": [
    "# this is my notebook for course 2 of IBM data science"
   ]
  },
  {
   "cell_type": "markdown",
   "metadata": {},
   "source": [
    "**David Rexilius**"
   ]
  },
  {
   "cell_type": "markdown",
   "metadata": {},
   "source": [
    "*my ultimate goal is a career in either sports or environmental studies*"
   ]
  },
  {
   "cell_type": "markdown",
   "metadata": {},
   "source": [
    "###the following code is a basic math problem "
   ]
  },
  {
   "cell_type": "code",
   "execution_count": 4,
   "metadata": {},
   "outputs": [
    {
     "data": {
      "text/plain": [
       "2"
      ]
     },
     "execution_count": 4,
     "metadata": {},
     "output_type": "execute_result"
    }
   ],
   "source": [
    "1 + 1"
   ]
  },
  {
   "cell_type": "markdown",
   "metadata": {},
   "source": [
    "# Table"
   ]
  },
  {
   "cell_type": "markdown",
   "metadata": {},
   "source": [
    "| name||age||job|\n",
    "|---||---||---|\n",
    "|1.Joe||32||boss|\n",
    "|2.angie||24||student|\n",
    "|3.tom||46||lawyer|\n",
    "|4.sara||28||nurse|"
   ]
  },
  {
   "attachments": {},
   "cell_type": "markdown",
   "metadata": {},
   "source": [
    "[](![hero%20image.jpg](attachment:hero%20image.jpg))"
   ]
  },
  {
   "cell_type": "markdown",
   "metadata": {},
   "source": [
    "https://www.nationalgeographic.com/"
   ]
  },
  {
   "cell_type": "code",
   "execution_count": null,
   "metadata": {},
   "outputs": [],
   "source": []
  }
 ],
 "metadata": {
  "kernelspec": {
   "display_name": "Python 3.9",
   "language": "python",
   "name": "python3"
  },
  "language_info": {
   "codemirror_mode": {
    "name": "ipython",
    "version": 3
   },
   "file_extension": ".py",
   "mimetype": "text/x-python",
   "name": "python",
   "nbconvert_exporter": "python",
   "pygments_lexer": "ipython3",
   "version": "3.9.12"
  }
 },
 "nbformat": 4,
 "nbformat_minor": 1
}
